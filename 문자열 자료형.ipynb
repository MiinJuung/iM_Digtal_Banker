{
 "cells": [
  {
   "cell_type": "code",
   "execution_count": 1,
   "id": "2633a360-c0a8-4e59-86b1-0f17ffecee93",
   "metadata": {},
   "outputs": [
    {
     "data": {
      "text/plain": [
       "True"
      ]
     },
     "execution_count": 1,
     "metadata": {},
     "output_type": "execute_result"
    }
   ],
   "source": [
    "# 문자열 자료형\n",
    "a = 'python'\n",
    "b = \"python\"\n",
    "\n",
    "a == b"
   ]
  },
  {
   "cell_type": "code",
   "execution_count": 9,
   "id": "b1f966f0-b905-4745-ac47-4f7208cf37b7",
   "metadata": {},
   "outputs": [
    {
     "name": "stdout",
     "output_type": "stream",
     "text": [
      "python 'is' too fun\n",
      "python is \n",
      "\n",
      "\n",
      "\n",
      "\n",
      "too fun\n"
     ]
    },
    {
     "data": {
      "text/plain": [
       "False"
      ]
     },
     "execution_count": 9,
     "metadata": {},
     "output_type": "execute_result"
    }
   ],
   "source": [
    "a = 'python \"is\" too fun'\n",
    "a = 'python \\'is\\' too fun'\n",
    "b = \"python 'is' too fun\"\n",
    "\n",
    "print(a)\n",
    "print(b)\n",
    "\n",
    "a == b"
   ]
  },
  {
   "cell_type": "code",
   "execution_count": 16,
   "id": "f83bc3f0-7cab-4884-abb2-dbdb553ddd34",
   "metadata": {},
   "outputs": [
    {
     "name": "stdout",
     "output_type": "stream",
     "text": [
      "python is \n",
      "\n",
      "\n",
      "\n",
      "\n",
      "too fun\n",
      "python 'is' too \tfun\n",
      "python 'is' too \n",
      "\n",
      "\n",
      "fun\n"
     ]
    }
   ],
   "source": [
    "a = \"python is \\n\\n\\n\\n\\ntoo fun\"\n",
    "print(a)\n",
    "\n",
    "b = 'python \\'is\\' too \\tfun'\n",
    "print(b)\n",
    "\n",
    "c = \"\"\"python 'is' too \n",
    "\n",
    "\n",
    "fun\"\"\"\n",
    "print(c)"
   ]
  },
  {
   "cell_type": "code",
   "execution_count": 17,
   "id": "02872d47-b354-4594-b129-f3cb4a3dd8ea",
   "metadata": {},
   "outputs": [
    {
     "data": {
      "text/plain": [
       "'h'"
      ]
     },
     "execution_count": 17,
     "metadata": {},
     "output_type": "execute_result"
    }
   ],
   "source": [
    "a = 'python is too fun'\n",
    "\n",
    "# 인덱싱\n",
    "a[3]"
   ]
  },
  {
   "cell_type": "code",
   "execution_count": 19,
   "id": "eb694a01-aeb2-4ae6-b2ab-4a4a91973cf4",
   "metadata": {},
   "outputs": [
    {
     "data": {
      "text/plain": [
       "'to s'"
      ]
     },
     "execution_count": 19,
     "metadata": {},
     "output_type": "execute_result"
    }
   ],
   "source": [
    "# 여러개 접근 : 슬라이싱\n",
    "a[2:8]\n",
    "a[2:10:2] # 2부터 10까지 2씩 증가해서 접근 "
   ]
  },
  {
   "cell_type": "code",
   "execution_count": 22,
   "id": "d23a2466-f835-40ee-a2ec-206b7143c134",
   "metadata": {},
   "outputs": [
    {
     "data": {
      "text/plain": [
       "'nuf oot si nohtyp'"
      ]
     },
     "execution_count": 22,
     "metadata": {},
     "output_type": "execute_result"
    }
   ],
   "source": [
    "a[::-1] # 뒤집어서 츌력"
   ]
  },
  {
   "cell_type": "code",
   "execution_count": 23,
   "id": "3e31664e-4015-4585-b980-169b5614495b",
   "metadata": {},
   "outputs": [
    {
     "data": {
      "text/plain": [
       "17"
      ]
     },
     "execution_count": 23,
     "metadata": {},
     "output_type": "execute_result"
    }
   ],
   "source": [
    "len(a)"
   ]
  },
  {
   "cell_type": "code",
   "execution_count": 30,
   "id": "92bb24ae-71b5-4a18-aad4-f25e9d5b9ca0",
   "metadata": {},
   "outputs": [
    {
     "name": "stdout",
     "output_type": "stream",
     "text": [
      "python is too fun\n",
      "PYTHON IS TOO FUN\n",
      "python is too fun\n",
      "Python is too fun\n",
      "Python Is Too Fun\n",
      "PYTHON IS TOO FUN\n"
     ]
    }
   ],
   "source": [
    "# 문자열 전용 함수\n",
    "\n",
    "print(a)\n",
    "\n",
    "print(a.upper()) # 대문자 변환\n",
    "print(a.lower()) # 소문자 변환\n",
    "print(a.capitalize()) # 첫 자리만 대문자\n",
    "print(a.title()) # 앞 단어만 대문자\n",
    "print(a.swapcase()) # 대문자는 소문자, 소문자는 대문자"
   ]
  },
  {
   "cell_type": "code",
   "execution_count": 35,
   "id": "7339b89a-c551-40db-a9da-ea9365f804ac",
   "metadata": {},
   "outputs": [
    {
     "name": "stdout",
     "output_type": "stream",
     "text": [
      "python                  \n",
      "                python\n",
      "python\n",
      "python\n"
     ]
    }
   ],
   "source": [
    "a = \"                python                  \"\n",
    "print(a.lstrip()) # 왼 쪽 공백 삭제\n",
    "print(a.rstrip()) # 오른쪽 공백 삭제\n",
    "print(a.strip()) # 양 쪽 공백 삭제\n",
    "# 인터넷 스크래핑 할 때, 주로 사용함 #\n",
    "\n",
    "\n",
    "a = \"+++++++++++++++++++++python+++++++++++++++++++++\"\n",
    "print(a.strip(\"+\")) # 특정 문자 삭제도 가능함"
   ]
  },
  {
   "cell_type": "code",
   "execution_count": 43,
   "id": "4643e34d-2c1f-4839-8af1-a722be4192d8",
   "metadata": {},
   "outputs": [
    {
     "data": {
      "text/plain": [
       "['python', 'is', 'too', 'fun!']"
      ]
     },
     "execution_count": 43,
     "metadata": {},
     "output_type": "execute_result"
    }
   ],
   "source": [
    "a = \"python is too fun!\"\n",
    "b = a.split() #빈도분석에 자주 사용함 \n",
    "\n",
    "b"
   ]
  },
  {
   "cell_type": "code",
   "execution_count": 41,
   "id": "a6e133db-ba53-417d-b044-5bcbec366bdc",
   "metadata": {},
   "outputs": [
    {
     "data": {
      "text/plain": [
       "'a@b@c@d@e'"
      ]
     },
     "execution_count": 41,
     "metadata": {},
     "output_type": "execute_result"
    }
   ],
   "source": [
    "\"@\".join(\"abcde\")"
   ]
  },
  {
   "cell_type": "code",
   "execution_count": 44,
   "id": "a6138a33-6be2-4da0-bd0b-c22133aefa50",
   "metadata": {},
   "outputs": [
    {
     "data": {
      "text/plain": [
       "'python->is->too->fun!'"
      ]
     },
     "execution_count": 44,
     "metadata": {},
     "output_type": "execute_result"
    }
   ],
   "source": [
    "\"->\".join(b) # 문자열 "
   ]
  },
  {
   "cell_type": "code",
   "execution_count": 45,
   "id": "1c3f9a6e-6665-4c1c-965b-6570877eff27",
   "metadata": {},
   "outputs": [
    {
     "data": {
      "text/plain": [
       "'java is too fun!'"
      ]
     },
     "execution_count": 45,
     "metadata": {},
     "output_type": "execute_result"
    }
   ],
   "source": [
    "a = \"python is too fun!\"\n",
    "a.replace(\"python\", \"java\")"
   ]
  },
  {
   "cell_type": "code",
   "execution_count": 11,
   "id": "e6d1ac1f-f4a5-45d3-afe4-3a25abe7d28e",
   "metadata": {
    "jupyter": {
     "source_hidden": true
    }
   },
   "outputs": [
    {
     "data": {
      "text/plain": [
       "'나의 이름은 홍길동이고, 43살입니다.'"
      ]
     },
     "execution_count": 11,
     "metadata": {},
     "output_type": "execute_result"
    }
   ],
   "source": [
    "name = \"홍길동\"\n",
    "age = 43\n",
    "\n",
    "f\"나의 이름은 {name}이고, {age:.2f}살입니다.\"\n",
    "f\"나의 이름은 {name}이고, {age}살입니다.\"\n"
   ]
  },
  {
   "cell_type": "code",
   "execution_count": 8,
   "id": "1842a786-971c-4412-b5e1-cf9d40850173",
   "metadata": {},
   "outputs": [
    {
     "name": "stdout",
     "output_type": "stream",
     "text": [
      "False\n",
      "True\n",
      "False\n"
     ]
    }
   ],
   "source": [
    "print(\"hello123\".isalpha())\n",
    "print(\"123\".isdigit())\n",
    "print(\"h2 3\".isalnum())"
   ]
  },
  {
   "cell_type": "code",
   "execution_count": null,
   "id": "dd9b6108-4fca-4fd7-816d-37448944c735",
   "metadata": {},
   "outputs": [],
   "source": []
  }
 ],
 "metadata": {
  "kernelspec": {
   "display_name": "Python 3 (ipykernel)",
   "language": "python",
   "name": "python3"
  },
  "language_info": {
   "codemirror_mode": {
    "name": "ipython",
    "version": 3
   },
   "file_extension": ".py",
   "mimetype": "text/x-python",
   "name": "python",
   "nbconvert_exporter": "python",
   "pygments_lexer": "ipython3",
   "version": "3.12.7"
  }
 },
 "nbformat": 4,
 "nbformat_minor": 5
}
