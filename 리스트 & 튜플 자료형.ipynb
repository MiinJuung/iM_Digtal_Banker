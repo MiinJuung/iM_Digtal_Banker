{
 "cells": [
  {
   "cell_type": "markdown",
   "id": "a6f12b79-f61a-47fb-8ad9-5e4066f496f9",
   "metadata": {},
   "source": [
    "## 리스트, 튜플 자료형: 데이터를 보관하는 자료형"
   ]
  },
  {
   "cell_type": "markdown",
   "id": "54552caa-d220-4268-8916-716e0800d15f",
   "metadata": {},
   "source": [
    "#### 리스트 자료형"
   ]
  },
  {
   "cell_type": "code",
   "execution_count": 10,
   "id": "d0626446-a144-4f68-9446-35dd03187ffa",
   "metadata": {},
   "outputs": [
    {
     "name": "stdout",
     "output_type": "stream",
     "text": [
      "7\n",
      "7\n"
     ]
    }
   ],
   "source": [
    "box = [1,3,5,4,2,'hello',[2,7]]\n",
    "print(box[6][1])\n",
    "print(box[-1][-1])"
   ]
  },
  {
   "cell_type": "code",
   "execution_count": 11,
   "id": "cb4e9b5c-2a07-4558-9a1c-6499deeb2be9",
   "metadata": {},
   "outputs": [
    {
     "data": {
      "text/plain": [
       "[5, 4, 2]"
      ]
     },
     "execution_count": 11,
     "metadata": {},
     "output_type": "execute_result"
    }
   ],
   "source": [
    "box = [1,3,5,4,2]\n",
    "box[2:5]"
   ]
  },
  {
   "cell_type": "code",
   "execution_count": 13,
   "id": "a784449b-b50e-4ba6-a274-23487d6c2313",
   "metadata": {},
   "outputs": [
    {
     "data": {
      "text/plain": [
       "[1, 7, 5, 4, 2]"
      ]
     },
     "execution_count": 13,
     "metadata": {},
     "output_type": "execute_result"
    }
   ],
   "source": [
    "a = [1,3,5,4,2]\n",
    "b = a\n",
    "b[1] = 7\n",
    "b"
   ]
  },
  {
   "cell_type": "code",
   "execution_count": 14,
   "id": "cab5cae9-07b0-44e0-9965-39cf2ed23010",
   "metadata": {},
   "outputs": [
    {
     "data": {
      "text/plain": [
       "[1, 7, 5, 4, 2]"
      ]
     },
     "execution_count": 14,
     "metadata": {},
     "output_type": "execute_result"
    }
   ],
   "source": [
    "a # a도 훼손됨"
   ]
  },
  {
   "cell_type": "code",
   "execution_count": 15,
   "id": "71173a9c-3f45-4f95-bc52-58091f5cae79",
   "metadata": {},
   "outputs": [
    {
     "name": "stdout",
     "output_type": "stream",
     "text": [
      "[1, 3, 5, 4, 2]\n",
      "[1, 7, 5, 4, 2]\n"
     ]
    }
   ],
   "source": [
    "a = [1,3,5,4,2]\n",
    "b = a[:]\n",
    "b[1] = 7\n",
    "print(a)\n",
    "print(b) # a 훼손 X"
   ]
  },
  {
   "cell_type": "code",
   "execution_count": 34,
   "id": "92568779-48a5-472c-b3f0-b4fa4d040bf8",
   "metadata": {},
   "outputs": [
    {
     "data": {
      "text/plain": [
       "[1, 2, 3, 1, 2, 3, 1, 2, 3]"
      ]
     },
     "execution_count": 34,
     "metadata": {},
     "output_type": "execute_result"
    }
   ],
   "source": [
    "a = [1,2,3]\n",
    "b = [4,5,6]\n",
    "a * 3"
   ]
  },
  {
   "cell_type": "code",
   "execution_count": 22,
   "id": "9e382c18-23ba-4c91-af2c-3fa37deb175e",
   "metadata": {},
   "outputs": [
    {
     "name": "stdout",
     "output_type": "stream",
     "text": [
      "[1, 2, 3, 5, 5, 4]\n"
     ]
    }
   ],
   "source": [
    "a.append(4)\n",
    "print(a)"
   ]
  },
  {
   "cell_type": "code",
   "execution_count": 26,
   "id": "673972e8-7c20-47f3-b347-c175b60b54f8",
   "metadata": {},
   "outputs": [
    {
     "data": {
      "text/plain": [
       "[8, 10, 1, 2, 3]"
      ]
     },
     "execution_count": 26,
     "metadata": {},
     "output_type": "execute_result"
    }
   ],
   "source": [
    "# 원하는 위치가 있는경우\n",
    "a.insert(0,8)\n",
    "a"
   ]
  },
  {
   "cell_type": "code",
   "execution_count": 27,
   "id": "507cb179-7340-41de-a32c-5122b6a10c91",
   "metadata": {},
   "outputs": [
    {
     "data": {
      "text/plain": [
       "[10, 1, 2, 3]"
      ]
     },
     "execution_count": 27,
     "metadata": {},
     "output_type": "execute_result"
    }
   ],
   "source": [
    "a.remove(8)\n",
    "a"
   ]
  },
  {
   "cell_type": "code",
   "execution_count": 36,
   "id": "45c1ea60-744a-4718-96f1-e884c8bb908c",
   "metadata": {},
   "outputs": [
    {
     "name": "stdout",
     "output_type": "stream",
     "text": [
      "[1]\n"
     ]
    }
   ],
   "source": [
    "z = a.pop() # 가장 뒤에 있는 걸 꺼내줌\n",
    "print(a)"
   ]
  },
  {
   "cell_type": "code",
   "execution_count": 41,
   "id": "42d0c698-f0a2-417b-8b4c-8942894248a1",
   "metadata": {},
   "outputs": [
    {
     "data": {
      "text/plain": [
       "[5, 4, 3, 2, 1]"
      ]
     },
     "execution_count": 41,
     "metadata": {},
     "output_type": "execute_result"
    }
   ],
   "source": [
    "a = [1,3,5,4,2]\n",
    "a.sort()\n",
    "a.sort(reverse = True)\n",
    "a"
   ]
  },
  {
   "cell_type": "code",
   "execution_count": 42,
   "id": "75cf4cfd-6e4d-4b31-95f7-f795fd4d9be0",
   "metadata": {},
   "outputs": [
    {
     "data": {
      "text/plain": [
       "[2, 4, 5, 3, 1]"
      ]
     },
     "execution_count": 42,
     "metadata": {},
     "output_type": "execute_result"
    }
   ],
   "source": [
    "a = [1,3,5,4,2]\n",
    "a.reverse() # 거꾸로 출력\n",
    "a"
   ]
  },
  {
   "cell_type": "code",
   "execution_count": 49,
   "id": "f93f41f3-45ce-43bb-aa4b-b085278e4aa8",
   "metadata": {},
   "outputs": [
    {
     "data": {
      "text/plain": [
       "[[6, 9], [2, 3], [5, 2], [1, 0]]"
      ]
     },
     "execution_count": 49,
     "metadata": {},
     "output_type": "execute_result"
    }
   ],
   "source": [
    "b = [[1,0],[2,3],[5,2],[6,9]]\n",
    "#b.sort(reverse = True)\n",
    "b.sort(key = lambda x : x[1])\n",
    "b.sort(key = lambda x : x[1], reverse = True)\n",
    "b"
   ]
  },
  {
   "cell_type": "code",
   "execution_count": 51,
   "id": "1bdc83a5-b8b1-4dfe-9309-d61dd8df65e1",
   "metadata": {},
   "outputs": [
    {
     "name": "stdout",
     "output_type": "stream",
     "text": [
      "4\n",
      "1\n"
     ]
    }
   ],
   "source": [
    "print(a.index(1)) # 위치값\n",
    "print(a.count(1)) # 갯수 "
   ]
  },
  {
   "cell_type": "markdown",
   "id": "e8479a36-32b3-4d43-97a9-edb9d8943730",
   "metadata": {},
   "source": [
    "#### 튜플 자료형 : 리스트와 같은데 ()로 저장됨"
   ]
  },
  {
   "cell_type": "code",
   "execution_count": 55,
   "id": "2787ad76-7c68-4973-80f3-7ef585be43be",
   "metadata": {},
   "outputs": [
    {
     "data": {
      "text/plain": [
       "(1, 3, 5, 4, 2)"
      ]
     },
     "execution_count": 55,
     "metadata": {},
     "output_type": "execute_result"
    }
   ],
   "source": [
    "a = (1,3,5,4,2)\n",
    "# a[1] = 7 # 튜플은 정의하면 수정, 삭제 불가능 -> 바뀌면 안되는 데이터 사용할 때 튜플형식\n",
    "a"
   ]
  },
  {
   "cell_type": "code",
   "execution_count": 57,
   "id": "ed902035-100d-431e-86f6-b0ef95a81440",
   "metadata": {},
   "outputs": [
    {
     "data": {
      "text/plain": [
       "(5, 10)"
      ]
     },
     "execution_count": 57,
     "metadata": {},
     "output_type": "execute_result"
    }
   ],
   "source": [
    "b=5,10\n",
    "b"
   ]
  },
  {
   "cell_type": "code",
   "execution_count": 62,
   "id": "5bdedd6a-bfc8-413d-80ec-8fa47d728998",
   "metadata": {},
   "outputs": [
    {
     "data": {
      "text/plain": [
       "10"
      ]
     },
     "execution_count": 62,
     "metadata": {},
     "output_type": "execute_result"
    }
   ],
   "source": [
    "# 여러 개 값을 하나의 튜플로 묶는 것: 패킹\n",
    "# 이미 묶여 있는 것들을 여러 개 변수로 할당: 언패킹\n",
    "a,b,c = (10,20,30)\n",
    "a"
   ]
  },
  {
   "cell_type": "code",
   "execution_count": 64,
   "id": "f84a66e4-ebbe-47cf-b31a-4f74e2b2a8b5",
   "metadata": {},
   "outputs": [
    {
     "data": {
      "text/plain": [
       "1"
      ]
     },
     "execution_count": 64,
     "metadata": {},
     "output_type": "execute_result"
    }
   ],
   "source": [
    "box = (1,2,3,4,5)\n",
    "a,b,c,d,e = box\n",
    "a"
   ]
  },
  {
   "cell_type": "code",
   "execution_count": 65,
   "id": "b76813ec-58ed-44bd-ad14-2adc6725bc9b",
   "metadata": {},
   "outputs": [
    {
     "data": {
      "text/plain": [
       "(1, 2, [3, 4, 5])"
      ]
     },
     "execution_count": 65,
     "metadata": {},
     "output_type": "execute_result"
    }
   ],
   "source": [
    "a,b,*c = box # *붙이면 나머지 리스트로 묶어줌\n",
    "a,b,c"
   ]
  },
  {
   "cell_type": "code",
   "execution_count": 66,
   "id": "4737a17d-044a-42e9-91e2-f5715e508de0",
   "metadata": {},
   "outputs": [
    {
     "name": "stdout",
     "output_type": "stream",
     "text": [
      "20 10\n"
     ]
    }
   ],
   "source": [
    "x = 10\n",
    "y = 20\n",
    "\n",
    "x,y = y,x\n",
    "\n",
    "print(x,y)"
   ]
  },
  {
   "cell_type": "code",
   "execution_count": 67,
   "id": "34c916c0-e4f8-4274-a00a-86943b813534",
   "metadata": {},
   "outputs": [
    {
     "data": {
      "text/plain": [
       "(1, 2, 3, 4)"
      ]
     },
     "execution_count": 67,
     "metadata": {},
     "output_type": "execute_result"
    }
   ],
   "source": [
    "a = list((1,2,3)) # 튜플을 리스트로 변환\n",
    "a.append(4)\n",
    "tuple(a)"
   ]
  },
  {
   "cell_type": "code",
   "execution_count": 68,
   "id": "78bb0d96-81bf-4776-b8fa-c13ad037d68d",
   "metadata": {},
   "outputs": [
    {
     "data": {
      "text/plain": [
       "['h', 'e', 'l', 'l', 'o']"
      ]
     },
     "execution_count": 68,
     "metadata": {},
     "output_type": "execute_result"
    }
   ],
   "source": [
    "list(\"hello\")"
   ]
  },
  {
   "cell_type": "code",
   "execution_count": 70,
   "id": "eb1f0fbf-cd71-43b1-8d2e-38218058d61f",
   "metadata": {},
   "outputs": [
    {
     "data": {
      "text/plain": [
       "[1, 2, 3, 4, 5, 6, 7, 8, 9, 10]"
      ]
     },
     "execution_count": 70,
     "metadata": {},
     "output_type": "execute_result"
    }
   ],
   "source": [
    "list(range(1,11))"
   ]
  }
 ],
 "metadata": {
  "kernelspec": {
   "display_name": "Python 3 (ipykernel)",
   "language": "python",
   "name": "python3"
  },
  "language_info": {
   "codemirror_mode": {
    "name": "ipython",
    "version": 3
   },
   "file_extension": ".py",
   "mimetype": "text/x-python",
   "name": "python",
   "nbconvert_exporter": "python",
   "pygments_lexer": "ipython3",
   "version": "3.12.7"
  }
 },
 "nbformat": 4,
 "nbformat_minor": 5
}
