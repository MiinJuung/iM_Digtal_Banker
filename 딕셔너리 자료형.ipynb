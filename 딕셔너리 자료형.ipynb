{
 "cells": [
  {
   "cell_type": "code",
   "execution_count": 19,
   "id": "16181075-c6a3-44f8-9e2d-1ee7946006f4",
   "metadata": {},
   "outputs": [
    {
     "data": {
      "text/plain": [
       "True"
      ]
     },
     "execution_count": 19,
     "metadata": {},
     "output_type": "execute_result"
    }
   ],
   "source": [
    "# 딕셔너리 자료형\n",
    "dic = {\"이름\":\"홍길동\", \n",
    "      \"나이\": 40,\n",
    "      \"성별\": \"남자\"}\n",
    "#len(dic)\n",
    "\"이름\" in dic"
   ]
  },
  {
   "cell_type": "code",
   "execution_count": 20,
   "id": "aeb807c2-d967-482c-82ef-77b7d8791e81",
   "metadata": {},
   "outputs": [
    {
     "data": {
      "text/plain": [
       "'홍길동'"
      ]
     },
     "execution_count": 20,
     "metadata": {},
     "output_type": "execute_result"
    }
   ],
   "source": [
    "dic[\"이름\"] # Key값으로 접근"
   ]
  },
  {
   "cell_type": "code",
   "execution_count": 21,
   "id": "2d7c7147-de4a-4cc8-b2b8-638ddf9a5d22",
   "metadata": {},
   "outputs": [
    {
     "data": {
      "text/plain": [
       "'그런 키 값은 없습니다.'"
      ]
     },
     "execution_count": 21,
     "metadata": {},
     "output_type": "execute_result"
    }
   ],
   "source": [
    "dic.get(\"이상형\", \"그런 키 값은 없습니다.\") # get을 통해 에러 발생을 방지가능"
   ]
  },
  {
   "cell_type": "code",
   "execution_count": 22,
   "id": "ff10dae7-099c-4f04-9999-77074da9ceaa",
   "metadata": {},
   "outputs": [
    {
     "data": {
      "text/plain": [
       "'홍길동'"
      ]
     },
     "execution_count": 22,
     "metadata": {},
     "output_type": "execute_result"
    }
   ],
   "source": [
    "dic.get(\"이름\", \"그런 키 값은 없습니다.\")"
   ]
  },
  {
   "cell_type": "code",
   "execution_count": 23,
   "id": "100f90c1-1b7f-48eb-8636-65d064fa1552",
   "metadata": {},
   "outputs": [
    {
     "data": {
      "text/plain": [
       "{'이름': '홍길동', '나이': 40, '성별': '남자', '이상형': '민정'}"
      ]
     },
     "execution_count": 23,
     "metadata": {},
     "output_type": "execute_result"
    }
   ],
   "source": [
    "# dic 값 추가\n",
    "dic[\"이상형\"] = \"민정\"\n",
    "dic"
   ]
  },
  {
   "cell_type": "code",
   "execution_count": 25,
   "id": "bfd1b7b8-d64d-4a74-ba0b-4cf6bcfd75f1",
   "metadata": {},
   "outputs": [],
   "source": [
    "dic[\"이름\"] = \"강동원\""
   ]
  },
  {
   "cell_type": "code",
   "execution_count": 26,
   "id": "7207d652-90b6-4352-b134-a774fd076f30",
   "metadata": {},
   "outputs": [
    {
     "data": {
      "text/plain": [
       "{'이름': '강동원', '나이': 40, '이상형': '민정'}"
      ]
     },
     "execution_count": 26,
     "metadata": {},
     "output_type": "execute_result"
    }
   ],
   "source": [
    "z = dic.pop(\"성별\")\n",
    "dic"
   ]
  },
  {
   "cell_type": "code",
   "execution_count": 27,
   "id": "e11bb0f8-c6be-4f8b-bd56-a80da0cffcf5",
   "metadata": {},
   "outputs": [
    {
     "data": {
      "text/plain": [
       "(dict_keys(['이름', '나이', '이상형']), dict_values(['강동원', 40, '민정']))"
      ]
     },
     "execution_count": 27,
     "metadata": {},
     "output_type": "execute_result"
    }
   ],
   "source": [
    "# 키값만 확인 // values값만 확인\n",
    "dic.keys(), dic.values()"
   ]
  },
  {
   "cell_type": "code",
   "execution_count": 28,
   "id": "8ca43871-30d2-4bd3-891b-4fbc764f2dbf",
   "metadata": {},
   "outputs": [
    {
     "data": {
      "text/plain": [
       "dict_items([('이름', '강동원'), ('나이', 40), ('이상형', '민정')])"
      ]
     },
     "execution_count": 28,
     "metadata": {},
     "output_type": "execute_result"
    }
   ],
   "source": [
    "# 키-밸류가 튜플로 묶여서 리스트에 저장\n",
    "dic.items()"
   ]
  },
  {
   "cell_type": "code",
   "execution_count": 30,
   "id": "afc1e4b0-f02a-477c-9aa5-f8d0c50d066a",
   "metadata": {},
   "outputs": [
    {
     "data": {
      "text/plain": [
       "{'이름': '홍길동', '나이': 40, '이상형': '민정', '사는 곳': '대구'}"
      ]
     },
     "execution_count": 30,
     "metadata": {},
     "output_type": "execute_result"
    }
   ],
   "source": [
    "# 딕셔너리끼리 합쳐야 하는 경우.\n",
    "#기존 값은 새로운 value로 update\n",
    "dic2 = {\"사는 곳\":\"대구\", \"이름\": \"홍길동\"}\n",
    "\n",
    "dic.update(dic2)\n",
    "dic"
   ]
  },
  {
   "cell_type": "code",
   "execution_count": 33,
   "id": "8aec7f47-d298-49e7-af4d-edc8cf68733a",
   "metadata": {},
   "outputs": [
    {
     "name": "stdout",
     "output_type": "stream",
     "text": [
      "이름\n",
      "홍길동\n",
      "나이\n",
      "40\n",
      "이상형\n",
      "민정\n",
      "사는 곳\n",
      "대구\n"
     ]
    }
   ],
   "source": [
    "# dic 안에 있는 것들을 순서대로 변수 i에 넣는다 \n",
    "# items()함수를 주로 이용함\n",
    "for i,j in dic.items():\n",
    "    print(i)\n",
    "    print(j)"
   ]
  }
 ],
 "metadata": {
  "kernelspec": {
   "display_name": "Python 3 (ipykernel)",
   "language": "python",
   "name": "python3"
  },
  "language_info": {
   "codemirror_mode": {
    "name": "ipython",
    "version": 3
   },
   "file_extension": ".py",
   "mimetype": "text/x-python",
   "name": "python",
   "nbconvert_exporter": "python",
   "pygments_lexer": "ipython3",
   "version": "3.12.7"
  }
 },
 "nbformat": 4,
 "nbformat_minor": 5
}
