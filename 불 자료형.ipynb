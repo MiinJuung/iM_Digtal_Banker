{
 "cells": [
  {
   "cell_type": "code",
   "execution_count": 2,
   "id": "52b49982-eb59-4bd0-a819-845892bf2da8",
   "metadata": {},
   "outputs": [],
   "source": [
    "# 불 자료형: 참과 거짓\n",
    "a = True\n",
    "b = False"
   ]
  },
  {
   "cell_type": "code",
   "execution_count": 4,
   "id": "09684044-9166-4c09-a96a-4d5eef5ddc6f",
   "metadata": {},
   "outputs": [
    {
     "data": {
      "text/plain": [
       "False"
      ]
     },
     "execution_count": 4,
     "metadata": {},
     "output_type": "execute_result"
    }
   ],
   "source": [
    "5 > 3\n",
    "3 <= 1"
   ]
  },
  {
   "cell_type": "code",
   "execution_count": 13,
   "id": "b85d3b93-c520-4ef3-9d85-9e7654b909b0",
   "metadata": {},
   "outputs": [
    {
     "data": {
      "text/plain": [
       "False"
      ]
     },
     "execution_count": 13,
     "metadata": {},
     "output_type": "execute_result"
    }
   ],
   "source": [
    "# 모든 것은 참과 거짓으로 구분할 수 있다.\n",
    "# 비어 있으면 거짓 -> 0, 공백\n",
    "bool()\n",
    "bool([])\n",
    "bool(\"\")"
   ]
  },
  {
   "cell_type": "code",
   "execution_count": 14,
   "id": "980c2092-3231-44d7-a56f-820e5eee43d0",
   "metadata": {},
   "outputs": [
    {
     "data": {
      "text/plain": [
       "True"
      ]
     },
     "execution_count": 14,
     "metadata": {},
     "output_type": "execute_result"
    }
   ],
   "source": [
    "# != 다르다\n",
    "bool(5) == True\n",
    "bool(1) != False"
   ]
  },
  {
   "cell_type": "code",
   "execution_count": 16,
   "id": "f105b9e6-8a51-4465-bb8b-a0dd301868c7",
   "metadata": {},
   "outputs": [
    {
     "data": {
      "text/plain": [
       "False"
      ]
     },
     "execution_count": 16,
     "metadata": {},
     "output_type": "execute_result"
    }
   ],
   "source": [
    "box = [1,2,3,0] \n",
    "all(box) # 모든 값이 참인지 확인, 모든 값이 참이면 True"
   ]
  },
  {
   "cell_type": "code",
   "execution_count": 17,
   "id": "1446de1e-fcc9-41d7-9e9d-e6dee9a32bb9",
   "metadata": {},
   "outputs": [
    {
     "data": {
      "text/plain": [
       "False"
      ]
     },
     "execution_count": 17,
     "metadata": {},
     "output_type": "execute_result"
    }
   ],
   "source": [
    "box = [0,0,0]\n",
    "any(box) # 하나라도 참이면 True"
   ]
  },
  {
   "cell_type": "code",
   "execution_count": 20,
   "id": "6b3445b2-9007-4c49-b5a8-ca64e5b2837e",
   "metadata": {},
   "outputs": [
    {
     "data": {
      "text/plain": [
       "(False, True)"
      ]
     },
     "execution_count": 20,
     "metadata": {},
     "output_type": "execute_result"
    }
   ],
   "source": [
    "a = True # 1\n",
    "b = False # 0\n",
    "\n",
    "# a와  b가 모두 참이어야 참 // a와 b 중 하나라도 참이면 참\n",
    "a and b , a or b"
   ]
  },
  {
   "cell_type": "code",
   "execution_count": 21,
   "id": "eac53e30-e768-45be-b911-2b510c0313e2",
   "metadata": {},
   "outputs": [
    {
     "data": {
      "text/plain": [
       "True"
      ]
     },
     "execution_count": 21,
     "metadata": {},
     "output_type": "execute_result"
    }
   ],
   "source": [
    "not b # 반대로 출력"
   ]
  }
 ],
 "metadata": {
  "kernelspec": {
   "display_name": "Python 3 (ipykernel)",
   "language": "python",
   "name": "python3"
  },
  "language_info": {
   "codemirror_mode": {
    "name": "ipython",
    "version": 3
   },
   "file_extension": ".py",
   "mimetype": "text/x-python",
   "name": "python",
   "nbconvert_exporter": "python",
   "pygments_lexer": "ipython3",
   "version": "3.12.7"
  }
 },
 "nbformat": 4,
 "nbformat_minor": 5
}
